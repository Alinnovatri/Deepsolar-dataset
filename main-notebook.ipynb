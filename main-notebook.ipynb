{
 "cells": [
  {
   "cell_type": "markdown",
   "metadata": {},
   "source": [
    "# Visualizando tendencias en la implementación de energía solar en los Estados Unidos."
   ]
  },
  {
   "cell_type": "markdown",
   "metadata": {},
   "source": [
    "En este archivo de python se pretende visualizar y analizar la implementación de la energía solar fotovoltaica en los Estados Unidos. Los datos son obtenidos a partir de un proyecto realizado por la Universidad de Standford con el proyecto Deep Solar, en el cual realizan un análisis de las imagenes satelitales para identtificar paneles fotovoltaicos en el país y visualizar aspectos ambientales y socioeconómicos. "
   ]
  },
  {
   "cell_type": "markdown",
   "metadata": {},
   "source": [
    "## A) Importación de librerias"
   ]
  },
  {
   "cell_type": "code",
   "execution_count": 3,
   "metadata": {},
   "outputs": [
    {
     "name": "stdout",
     "output_type": "stream",
     "text": [
      "Se importaron las librerías necesarias.\n"
     ]
    }
   ],
   "source": [
    "import pandas as pd    \n",
    "import matplotlib.pyplot as plt\n",
    "print(\"Se importaron las librerías necesarias.\")"
   ]
  },
  {
   "cell_type": "markdown",
   "metadata": {},
   "source": [
    "## B) Lectura y limpieza de los datos para su visualización "
   ]
  },
  {
   "cell_type": "markdown",
   "metadata": {},
   "source": [
    "Lectura del archivo CSV mediante pandas y un dataframe"
   ]
  },
  {
   "cell_type": "code",
   "execution_count": 51,
   "metadata": {},
   "outputs": [
    {
     "data": {
      "text/html": [
       "<div>\n",
       "<style scoped>\n",
       "    .dataframe tbody tr th:only-of-type {\n",
       "        vertical-align: middle;\n",
       "    }\n",
       "\n",
       "    .dataframe tbody tr th {\n",
       "        vertical-align: top;\n",
       "    }\n",
       "\n",
       "    .dataframe thead th {\n",
       "        text-align: right;\n",
       "    }\n",
       "</style>\n",
       "<table border=\"1\" class=\"dataframe\">\n",
       "  <thead>\n",
       "    <tr style=\"text-align: right;\">\n",
       "      <th></th>\n",
       "      <th>Unnamed: 0</th>\n",
       "      <th>tile_count</th>\n",
       "      <th>solar_system_count</th>\n",
       "      <th>total_panel_area</th>\n",
       "      <th>fips</th>\n",
       "      <th>average_household_income</th>\n",
       "      <th>county</th>\n",
       "      <th>education_bachelor</th>\n",
       "      <th>education_college</th>\n",
       "      <th>education_doctoral</th>\n",
       "      <th>...</th>\n",
       "      <th>incentive_count_nonresidential</th>\n",
       "      <th>incentive_residential_state_level</th>\n",
       "      <th>incentive_nonresidential_state_level</th>\n",
       "      <th>net_metering</th>\n",
       "      <th>feedin_tariff</th>\n",
       "      <th>cooperate_tax</th>\n",
       "      <th>property_tax</th>\n",
       "      <th>sales_tax</th>\n",
       "      <th>rebate</th>\n",
       "      <th>avg_electricity_retail_rate</th>\n",
       "    </tr>\n",
       "  </thead>\n",
       "  <tbody>\n",
       "    <tr>\n",
       "      <th>1</th>\n",
       "      <td>1</td>\n",
       "      <td>25.0</td>\n",
       "      <td>21.0</td>\n",
       "      <td>1133.436461</td>\n",
       "      <td>27145011301</td>\n",
       "      <td>61727.085202</td>\n",
       "      <td>Stearns County</td>\n",
       "      <td>674</td>\n",
       "      <td>1434</td>\n",
       "      <td>108</td>\n",
       "      <td>...</td>\n",
       "      <td>39</td>\n",
       "      <td>11</td>\n",
       "      <td>13</td>\n",
       "      <td>34</td>\n",
       "      <td>0</td>\n",
       "      <td>0</td>\n",
       "      <td>25</td>\n",
       "      <td>12</td>\n",
       "      <td>0</td>\n",
       "      <td>9.46</td>\n",
       "    </tr>\n",
       "  </tbody>\n",
       "</table>\n",
       "<p>1 rows × 169 columns</p>\n",
       "</div>"
      ],
      "text/plain": [
       "   Unnamed: 0  tile_count  solar_system_count  total_panel_area         fips  \\\n",
       "1           1        25.0                21.0       1133.436461  27145011301   \n",
       "\n",
       "   average_household_income          county  education_bachelor  \\\n",
       "1              61727.085202  Stearns County                 674   \n",
       "\n",
       "   education_college  education_doctoral             ...               \\\n",
       "1               1434                 108             ...                \n",
       "\n",
       "   incentive_count_nonresidential  incentive_residential_state_level  \\\n",
       "1                              39                                 11   \n",
       "\n",
       "   incentive_nonresidential_state_level  net_metering  feedin_tariff  \\\n",
       "1                                    13            34              0   \n",
       "\n",
       "   cooperate_tax  property_tax  sales_tax  rebate  avg_electricity_retail_rate  \n",
       "1              0            25         12       0                         9.46  \n",
       "\n",
       "[1 rows x 169 columns]"
      ]
     },
     "execution_count": 51,
     "metadata": {},
     "output_type": "execute_result"
    }
   ],
   "source": [
    "#Se realiza únicamente una lectura de 5000 datos debido al tamaño del archivo\n",
    "data = pd.read_csv('data/deepsolar_tract.csv',nrows=6077)\n",
    "data[1:2]"
   ]
  },
  {
   "cell_type": "code",
   "execution_count": 35,
   "metadata": {},
   "outputs": [
    {
     "name": "stdout",
     "output_type": "stream",
     "text": [
      "169 ['Unnamed: 0', 'tile_count', 'solar_system_count', 'total_panel_area', 'fips', 'average_household_income', 'county', 'education_bachelor', 'education_college', 'education_doctoral', 'education_high_school_graduate', 'education_less_than_high_school', 'education_master', 'education_population', 'education_professional_school', 'employed', 'gini_index', 'heating_fuel_coal_coke', 'heating_fuel_electricity', 'heating_fuel_fuel_oil_kerosene', 'heating_fuel_gas', 'heating_fuel_housing_unit_count', 'heating_fuel_none', 'heating_fuel_other', 'heating_fuel_solar', 'land_area', 'per_capita_income', 'population', 'population_density', 'poverty_family_below_poverty_level', 'poverty_family_count', 'race_asian', 'race_black_africa', 'race_indian_alaska', 'race_islander', 'race_other', 'race_two_more', 'race_white', 'state', 'total_area', 'unemployed', 'water_area', 'education_less_than_high_school_rate', 'education_high_school_graduate_rate', 'education_college_rate', 'education_bachelor_rate', 'education_master_rate', 'education_professional_school_rate', 'education_doctoral_rate', 'race_white_rate', 'race_black_africa_rate', 'race_indian_alaska_rate', 'race_asian_rate', 'race_islander_rate', 'race_other_rate', 'race_two_more_rate', 'employ_rate', 'poverty_family_below_poverty_level_rate', 'heating_fuel_gas_rate', 'heating_fuel_electricity_rate', 'heating_fuel_fuel_oil_kerosene_rate', 'heating_fuel_coal_coke_rate', 'heating_fuel_solar_rate', 'heating_fuel_other_rate', 'heating_fuel_none_rate', 'solar_panel_area_divided_by_area', 'solar_panel_area_per_capita', 'tile_count_residential', 'tile_count_nonresidential', 'solar_system_count_residential', 'solar_system_count_nonresidential', 'total_panel_area_residential', 'total_panel_area_nonresidential', 'median_household_income', 'electricity_price_residential', 'electricity_price_commercial', 'electricity_price_industrial', 'electricity_price_transportation', 'electricity_price_overall', 'electricity_consume_residential', 'electricity_consume_commercial', 'electricity_consume_industrial', 'electricity_consume_total', 'household_count', 'average_household_size', 'housing_unit_count', 'housing_unit_occupied_count', 'housing_unit_median_value', 'housing_unit_median_gross_rent', 'lat', 'lon', 'elevation', 'heating_design_temperature', 'cooling_design_temperature', 'earth_temperature_amplitude', 'frost_days', 'air_temperature', 'relative_humidity', 'daily_solar_radiation', 'atmospheric_pressure', 'wind_speed', 'earth_temperature', 'heating_degree_days', 'cooling_degree_days', 'age_18_24_rate', 'age_25_34_rate', 'age_more_than_85_rate', 'age_75_84_rate', 'age_35_44_rate', 'age_45_54_rate', 'age_65_74_rate', 'age_55_64_rate', 'age_10_14_rate', 'age_15_17_rate', 'age_5_9_rate', 'household_type_family_rate', 'dropout_16_19_inschool_rate', 'occupation_construction_rate', 'occupation_public_rate', 'occupation_information_rate', 'occupation_finance_rate', 'occupation_education_rate', 'occupation_administrative_rate', 'occupation_manufacturing_rate', 'occupation_wholesale_rate', 'occupation_retail_rate', 'occupation_transportation_rate', 'occupation_arts_rate', 'occupation_agriculture_rate', 'occupancy_vacant_rate', 'occupancy_owner_rate', 'mortgage_with_rate', 'transportation_home_rate', 'transportation_car_alone_rate', 'transportation_walk_rate', 'transportation_carpool_rate', 'transportation_motorcycle_rate', 'transportation_bicycle_rate', 'transportation_public_rate', 'travel_time_less_than_10_rate', 'travel_time_10_19_rate', 'travel_time_20_29_rate', 'travel_time_30_39_rate', 'travel_time_40_59_rate', 'travel_time_60_89_rate', 'health_insurance_public_rate', 'health_insurance_none_rate', 'age_median', 'travel_time_average', 'voting_2016_dem_percentage', 'voting_2016_gop_percentage', 'voting_2016_dem_win', 'voting_2012_dem_percentage', 'voting_2012_gop_percentage', 'voting_2012_dem_win', 'number_of_years_of_education', 'diversity', 'number_of_solar_system_per_household', 'incentive_count_residential', 'incentive_count_nonresidential', 'incentive_residential_state_level', 'incentive_nonresidential_state_level', 'net_metering', 'feedin_tariff', 'cooperate_tax', 'property_tax', 'sales_tax', 'rebate', 'avg_electricity_retail_rate']\n"
     ]
    }
   ],
   "source": [
    "print(len(list(data.columns.values)),list(data.columns.values))"
   ]
  },
  {
   "cell_type": "code",
   "execution_count": null,
   "metadata": {},
   "outputs": [],
   "source": []
  }
 ],
 "metadata": {
  "kernelspec": {
   "display_name": "Python 3",
   "language": "python",
   "name": "python3"
  },
  "language_info": {
   "codemirror_mode": {
    "name": "ipython",
    "version": 3
   },
   "file_extension": ".py",
   "mimetype": "text/x-python",
   "name": "python",
   "nbconvert_exporter": "python",
   "pygments_lexer": "ipython3",
   "version": "3.6.6"
  }
 },
 "nbformat": 4,
 "nbformat_minor": 2
}
